{
 "cells": [
  {
   "cell_type": "code",
   "execution_count": 2,
   "outputs": [],
   "source": [
    "import selenium\n",
    "from selenium import webdriver\n",
    "import bs4\n",
    "from selenium.webdriver.common.keys import Keys\n",
    "from selenium.webdriver.common.by import By\n",
    "from selenium.webdriver.remote.webelement import WebElement\n",
    "from selenium.webdriver.support.ui import WebDriverWait\n",
    "from selenium.webdriver.support import expected_conditions as EC\n",
    "from selenium.common.exceptions import TimeoutException, ElementNotVisibleException, ElementNotSelectableException, \\\n",
    "    ElementClickInterceptedException, StaleElementReferenceException\n",
    "from selenium.webdriver.common.action_chains import ActionChains\n",
    "from selenium.common.exceptions import NoSuchElementException\n",
    "import re\n",
    "import pandas as pd\n",
    "import requests\n",
    "import time\n",
    "import numpy as np\n",
    "from selenium.webdriver.chrome.service import Service\n",
    "from selenium.webdriver.common.by import By"
   ],
   "metadata": {
    "collapsed": false,
    "pycharm": {
     "name": "#%%\n"
    }
   }
  },
  {
   "cell_type": "markdown",
   "source": [],
   "metadata": {
    "collapsed": false,
    "pycharm": {
     "name": "#%% md\n"
    }
   }
  },
  {
   "cell_type": "code",
   "execution_count": 5,
   "metadata": {
    "collapsed": true
   },
   "outputs": [],
   "source": [
    "\n",
    "path = Service('D:\\chromedriver.exe')\n",
    "driver = webdriver.Chrome(service = path)\n",
    "\n",
    "driver.get('https:/linkedin.com')\n",
    "driver.maximize_window()\n",
    "\n",
    "wait = WebDriverWait(driver, 10,  poll_frequency=1)"
   ]
  },
  {
   "cell_type": "code",
   "execution_count": 6,
   "outputs": [],
   "source": [
    "mail = driver.find_element(By.XPATH, '//*[@id=\"session_key\"]')\n",
    "action_1 = ActionChains(driver)\n",
    "action_1.move_to_element(mail).click().send_keys('david.mtchedluri@iset.ge').perform()\n",
    "\n",
    "time.sleep(2)\n",
    "\n",
    "password = driver.find_element(By.XPATH,'//*[@id=\"session_password\"]')\n",
    "action_2 = ActionChains(driver)\n",
    "action_2.move_to_element(password).click().send_keys('Linked.1996').perform()\n",
    "\n",
    "time.sleep(2)\n",
    "\n",
    "sign_in = driver.find_element(By.XPATH, '//*[@id=\"main-content\"]/section[1]/div/div/form/button')\n",
    "action_3 = ActionChains(driver)\n",
    "action_3.move_to_element(sign_in).click().perform()\n",
    "\n",
    "time.sleep(2)\n",
    "\n",
    "wait.until(EC.visibility_of_element_located((By.XPATH, '/html/body/div[6]/header/div/div/div/div[1]/input')))\n",
    "search = driver.find_element(By.XPATH, '//*[@id=\"global-nav-typeahead\"]/input')\n",
    "action_4 = ActionChains(driver)\n",
    "action_4.move_to_element(search).click().send_keys('data scientist').perform()\n",
    "webdriver.ActionChains(driver).send_keys(Keys.RETURN).perform()\n",
    "time.sleep(1)\n",
    "webdriver.ActionChains(driver).send_keys(Keys.ESCAPE).perform()\n",
    "\n",
    "time.sleep(2)"
   ],
   "metadata": {
    "collapsed": false,
    "pycharm": {
     "name": "#%%\n"
    }
   }
  },
  {
   "cell_type": "code",
   "execution_count": null,
   "outputs": [],
   "source": [
    "wait.until(EC.visibility_of_element_located((By.CSS_SELECTOR, '.search-reusables__filter-pill-button')))\n",
    "filter_tabs = driver.find_elements_by_css_selector('.search-reusables__filter-pill-button')"
   ],
   "metadata": {
    "collapsed": false,
    "pycharm": {
     "name": "#%%\n"
    }
   }
  },
  {
   "cell_type": "code",
   "execution_count": null,
   "outputs": [],
   "source": [
    "filter_tabs[6].text"
   ],
   "metadata": {
    "collapsed": false,
    "pycharm": {
     "name": "#%%\n"
    }
   }
  },
  {
   "cell_type": "code",
   "execution_count": null,
   "outputs": [],
   "source": [
    "# Clicking on People\n",
    "wait.until(EC.visibility_of_element_located((By.CSS_SELECTOR, '.search-reusables__filter-pill-button')))\n",
    "filter_tabs = driver.find_elements_by_css_selector('.search-reusables__filter-pill-button')\n",
    "\n",
    "for i in range(0, int(len(filter_tabs))+1):\n",
    "    if 'People' in filter_tabs[i].text:\n",
    "        action_5 = ActionChains(driver)\n",
    "        action_5.move_to_element(filter_tabs[i]).click().perform()\n",
    "        break\n",
    "    else:\n",
    "        continue"
   ],
   "metadata": {
    "collapsed": false,
    "pycharm": {
     "name": "#%%\n"
    }
   }
  },
  {
   "cell_type": "code",
   "execution_count": null,
   "outputs": [],
   "source": [
    "# Clicking on Location\n",
    "wait.until(EC.visibility_of_element_located((By.CSS_SELECTOR, '.search-reusables__filter-pill-button')))\n",
    "filter_tabs = driver.find_elements_by_css_selector('.search-reusables__filter-pill-button')\n",
    "\n",
    "for i in range(0, len(filter_tabs)+1):\n",
    "    if 'Locations' in filter_tabs[i].text:\n",
    "        action_6 = ActionChains(driver)\n",
    "        action_6.move_to_element(filter_tabs[i]).click().perform()\n",
    "        break\n",
    "    else:\n",
    "        continue\n",
    "\n",
    "time.sleep(1.5)\n",
    "\n",
    "location_input_box = driver.find_element_by_xpath('//*[@id=\"artdeco-hoverable-artdeco-gen-107\"]/div[1]/div/form/fieldset/div[1]/div/div/input')\n",
    "action_7 = ActionChains(driver)\n",
    "action_7.move_to_element(location_input_box).click().send_keys('Japan').perform()\n",
    "\n",
    "# Choosing a country\n",
    "wait.until(EC.visibility_of_element_located((By.CLASS_NAME, 'basic-typeahead__triggered-content')))\n",
    "parent_elem = driver.find_element_by_class_name('basic-typeahead__triggered-content')\n",
    "child_elements = parent_elem.find_elements_by_xpath('.//*')[1]\n",
    "#child_elements[1]\n",
    "#print(driver.find_elements_by_class_name('basic-typeahead__triggered-content')[1].text)\n",
    "time.sleep(1.5)\n",
    "ActionChains(driver).move_to_element(child_elements).click().perform()\n",
    "time.sleep(1.5)\n",
    "\n",
    "# Show Results Button\n",
    "\n",
    "wait.until(EC.element_to_be_clickable((By.XPATH, '//*[@id=\"ember1448\"]/span')))\n",
    "\n",
    "show_results = driver.find_element_by_xpath('//*[@id=\"ember1448\"]/span')\n",
    "ActionChains(driver).move_to_element(show_results).click().perform()"
   ],
   "metadata": {
    "collapsed": false,
    "pycharm": {
     "name": "#%%\n"
    }
   }
  },
  {
   "cell_type": "code",
   "execution_count": null,
   "outputs": [],
   "source": [
    "time.sleep(1.5)\n",
    "\n",
    "location_input_box = driver.find_element_by_xpath('//*[@id=\"artdeco-hoverable-artdeco-gen-107\"]/div[1]/div/form/fieldset/div[1]/div/div/input')\n",
    "action_7 = ActionChains(driver)\n",
    "action_7.move_to_element(location_input_box).click().send_keys('Japan').perform()\n",
    "ActionChains(driver).move_by_offset(2, 5).click().perform()\n",
    "\n",
    "wait.until(EC.visibility_of_element_located((By.CLASS_NAME, '.basec-typeahead__triggered-content')))\n",
    "print(driver.find_elements_by_class_name('.basec-typeahead__triggered-content'))\n"
   ],
   "metadata": {
    "collapsed": false,
    "pycharm": {
     "name": "#%%\n"
    }
   }
  }
 ],
 "metadata": {
  "kernelspec": {
   "display_name": "Python 3",
   "language": "python",
   "name": "python3"
  },
  "language_info": {
   "codemirror_mode": {
    "name": "ipython",
    "version": 2
   },
   "file_extension": ".py",
   "mimetype": "text/x-python",
   "name": "python",
   "nbconvert_exporter": "python",
   "pygments_lexer": "ipython2",
   "version": "2.7.6"
  }
 },
 "nbformat": 4,
 "nbformat_minor": 0
}