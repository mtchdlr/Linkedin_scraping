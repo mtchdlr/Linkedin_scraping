{
 "cells": [
  {
   "cell_type": "code",
   "execution_count": 1,
   "outputs": [],
   "source": [
    "import selenium\n",
    "from selenium import webdriver\n",
    "import bs4\n",
    "from selenium.webdriver.common.keys import Keys\n",
    "from selenium.webdriver.common.by import By\n",
    "from selenium.webdriver.remote.webelement import WebElement\n",
    "from selenium.webdriver.support.ui import WebDriverWait\n",
    "from selenium.webdriver.support import expected_conditions as EC\n",
    "from selenium.common.exceptions import TimeoutException, ElementNotVisibleException, ElementNotSelectableException, \\\n",
    "    ElementClickInterceptedException, StaleElementReferenceException\n",
    "from selenium.webdriver.common.action_chains import ActionChains\n",
    "from selenium.common.exceptions import NoSuchElementException\n",
    "import re\n",
    "import pandas as pd\n",
    "import requests\n",
    "import time\n",
    "import numpy as np\n",
    "from selenium.webdriver.chrome.service import Service\n",
    "from selenium.webdriver.common.by import By"
   ],
   "metadata": {
    "collapsed": false,
    "pycharm": {
     "name": "#%%\n"
    }
   }
  },
  {
   "cell_type": "markdown",
   "source": [],
   "metadata": {
    "collapsed": false,
    "pycharm": {
     "name": "#%% md\n"
    }
   }
  },
  {
   "cell_type": "code",
   "execution_count": 2,
   "metadata": {
    "collapsed": true
   },
   "outputs": [],
   "source": [
    "\n",
    "path = Service('C:\\\\Users\\dmchedluri\\Desktop\\chromedriver_90.0.4430.24\\chromedriver.exe')\n",
    "driver = webdriver.Chrome(service = path)\n",
    "\n",
    "driver.get('https:/linkedin.com')\n",
    "driver.maximize_window()\n",
    "\n",
    "wait = WebDriverWait(driver, 10,  poll_frequency=1)"
   ]
  },
  {
   "cell_type": "code",
   "execution_count": null,
   "outputs": [],
   "source": [
    "mail = driver.find_element(By.XPATH, '//*[@id=\"session_key\"]')\n",
    "action_1 = ActionChains(driver)\n",
    "action_1.move_to_element(mail).click().send_keys('david.mtchedluri@iset.ge').perform()\n",
    "\n",
    "time.sleep(2)\n",
    "\n",
    "password = driver.find_element(By.XPATH,'//*[@id=\"session_password\"]')\n",
    "action_2 = ActionChains(driver)\n",
    "action_2.move_to_element(password).click().send_keys('12345678').perform()\n",
    "\n",
    "time.sleep(2)\n",
    "\n",
    "sign_in = driver.find_element(By.XPATH, '//*[@id=\"main-content\"]/section[1]/div/div/form/button')\n",
    "action_3 = ActionChains(driver)\n",
    "action_3.move_to_element(sign_in).click().perform()\n",
    "time.sleep(2)"
   ],
   "metadata": {
    "collapsed": false,
    "pycharm": {
     "name": "#%%\n",
     "is_executing": true
    }
   }
  },
  {
   "cell_type": "code",
   "execution_count": 5,
   "outputs": [],
   "source": [
    "#wait.until(EC.visibility_of_element_located((By.XPATH, '/html/body/div[6]/header/div/div/div/div[1]/input')))\n",
    "search = driver.find_element(By.XPATH, '//*[@id=\"global-nav-typeahead\"]/input')\n",
    "action_4 = ActionChains(driver)\n",
    "action_4.move_to_element(search).click().send_keys('data scientist').perform()\n",
    "webdriver.ActionChains(driver).send_keys(Keys.RETURN).perform()\n",
    "time.sleep(1)\n",
    "webdriver.ActionChains(driver).send_keys(Keys.ESCAPE).perform()\n",
    "\n",
    "time.sleep(2)"
   ],
   "metadata": {
    "collapsed": false,
    "pycharm": {
     "name": "#%%\n"
    }
   }
  },
  {
   "cell_type": "code",
   "execution_count": 6,
   "outputs": [
    {
     "name": "stderr",
     "output_type": "stream",
     "text": [
      "C:\\Users\\DMCHED~1\\AppData\\Local\\Temp/ipykernel_20528/2340724194.py:3: DeprecationWarning: find_elements_by_* commands are deprecated. Please use find_elements() instead\n",
      "  filter_tabs = driver.find_elements_by_css_selector('.search-reusables__filter-pill-button')\n"
     ]
    }
   ],
   "source": [
    "# Clicking on People\n",
    "wait.until(EC.visibility_of_element_located((By.CSS_SELECTOR, '.search-reusables__filter-pill-button')))\n",
    "filter_tabs = driver.find_elements_by_css_selector('.search-reusables__filter-pill-button')\n",
    "\n",
    "for i in range(0, int(len(filter_tabs))+1):\n",
    "    if 'People' in filter_tabs[i].text:\n",
    "        action_5 = ActionChains(driver)\n",
    "        action_5.move_to_element(filter_tabs[i]).click().perform()\n",
    "        break\n",
    "    else:\n",
    "        continue"
   ],
   "metadata": {
    "collapsed": false,
    "pycharm": {
     "name": "#%%\n"
    }
   }
  },
  {
   "cell_type": "code",
   "execution_count": 7,
   "outputs": [
    {
     "name": "stderr",
     "output_type": "stream",
     "text": [
      "C:\\Users\\DMCHED~1\\AppData\\Local\\Temp/ipykernel_20528/3799880140.py:3: DeprecationWarning: find_elements_by_* commands are deprecated. Please use find_elements() instead\n",
      "  filter_tabs = driver.find_elements_by_css_selector('.search-reusables__filter-pill-button')\n",
      "C:\\Users\\DMCHED~1\\AppData\\Local\\Temp/ipykernel_20528/3799880140.py:18: DeprecationWarning: find_element_by_* commands are deprecated. Please use find_element() instead\n",
      "  location_input_box_child = driver.find_element_by_xpath('//input[@placeholder=\"Add a location\"]')\n",
      "C:\\Users\\dmchedluri\\AppData\\Local\\Programs\\Python\\Python38\\lib\\site-packages\\selenium\\webdriver\\remote\\webelement.py:393: UserWarning: find_element_by_* commands are deprecated. Please use find_element() instead\n",
      "  warnings.warn(\"find_element_by_* commands are deprecated. Please use find_element() instead\")\n",
      "C:\\Users\\DMCHED~1\\AppData\\Local\\Temp/ipykernel_20528/3799880140.py:26: DeprecationWarning: find_element_by_* commands are deprecated. Please use find_element() instead\n",
      "  parent_elem = driver.find_element_by_class_name('basic-typeahead__triggered-content')\n",
      "C:\\Users\\dmchedluri\\AppData\\Local\\Programs\\Python\\Python38\\lib\\site-packages\\selenium\\webdriver\\remote\\webelement.py:426: UserWarning: find_elements_by_* commands are deprecated. Please use find_elements() instead\n",
      "  warnings.warn(\"find_elements_by_* commands are deprecated. Please use find_elements() instead\")\n"
     ]
    }
   ],
   "source": [
    "# Clicking on Location\n",
    "wait.until(EC.visibility_of_element_located((By.CSS_SELECTOR, '.search-reusables__filter-pill-button')))\n",
    "filter_tabs = driver.find_elements_by_css_selector('.search-reusables__filter-pill-button')\n",
    "\n",
    "for i in range(0, len(filter_tabs)+1):\n",
    "    if 'Locations' in filter_tabs[i].text:\n",
    "        action_6 = ActionChains(driver)\n",
    "        action_6.move_to_element(filter_tabs[i]).click().perform()\n",
    "        break\n",
    "    else:\n",
    "        continue\n",
    "\n",
    "time.sleep(1.5)\n",
    "\n",
    "#location_input_box_parent = driver.find_element(By.CSS_SELECTOR, '#artdeco-hoverable-artdeco-gen-58 > div.artdeco-hoverable-content__shell > div > form > fieldset > div.pl4.pr6 > div > div')\n",
    "#location_input_box = location_input_box_parent.find_elements_by_xpath('.//*')[0]\n",
    "\n",
    "location_input_box_child = driver.find_element_by_xpath('//input[@placeholder=\"Add a location\"]')\n",
    "location_input_box = location_input_box_child.find_element_by_xpath('..')\n",
    "\n",
    "action_7 = ActionChains(driver)\n",
    "action_7.move_to_element(location_input_box).click().send_keys('Japan').perform()\n",
    "\n",
    "# Choosing a country\n",
    "wait.until(EC.visibility_of_element_located((By.CLASS_NAME, 'basic-typeahead__triggered-content')))\n",
    "parent_elem = driver.find_element_by_class_name('basic-typeahead__triggered-content')\n",
    "child_elements = parent_elem.find_elements_by_xpath('.//*')[1]\n",
    "#child_elements[1]\n",
    "#print(driver.find_elements_by_class_name('basic-typeahead__triggered-content')[1].text)\n",
    "time.sleep(1.5)\n",
    "ActionChains(driver).move_to_element(child_elements).click().perform()\n",
    "time.sleep(1.5)\n"
   ],
   "metadata": {
    "collapsed": false,
    "pycharm": {
     "name": "#%%\n"
    }
   }
  },
  {
   "cell_type": "code",
   "execution_count": 8,
   "outputs": [
    {
     "name": "stderr",
     "output_type": "stream",
     "text": [
      "C:\\Users\\DMCHED~1\\AppData\\Local\\Temp/ipykernel_20528/2845296640.py:8: DeprecationWarning: find_element_by_* commands are deprecated. Please use find_element() instead\n",
      "  show_results_button = driver.find_element_by_class_name('artdeco-button__text')\n"
     ]
    }
   ],
   "source": [
    "# Show_Results Button\n",
    "\n",
    "#wait.until(EC.element_to_be_((By.CLASS_NAME, 'artdeco-button__text')))\n",
    "\n",
    "#show_results_parent = driver.find_element_by_xpath('//*[@id=\"artdeco-hoverable-artdeco-gen-55\"]/div[1]/div/form/fieldset/div[2]')\n",
    "#show_results_button = show_results_parent.find_elements_by_xpath('.//*')[2]\n",
    "\n",
    "show_results_button = driver.find_element_by_class_name('artdeco-button__text')\n",
    "ActionChains(driver).move_to_element(show_results_button).click().perform()\n",
    "webdriver.ActionChains(driver).send_keys(Keys.ESCAPE).perform()"
   ],
   "metadata": {
    "collapsed": false,
    "pycharm": {
     "name": "#%%\n"
    }
   }
  },
  {
   "cell_type": "code",
   "execution_count": 21,
   "outputs": [],
   "source": [
    "# DATA COLLECTING\n",
    "df = pd.DataFrame(columns=['name', 'location', 'position','current/past'])\n",
    "data = {}\n",
    "#df = df.append(data, ignore_index=True)\n",
    "\n",
    "while True:\n",
    "    time.sleep(2)\n",
    "    guys = driver.find_elements(By.CLASS_NAME, 'reusable-search__result-container ')\n",
    "    for guy in range(1, len(guys)+1):\n",
    "            try:\n",
    "                if len(driver.find_elements(By.XPATH, f'//*[@id=\"main\"]/div/div/div[2]/ul/li[{guy}]/div/div/div[2]/div[1]/div[1]/div/span[1]/span/a/span/span[1]')) > 0:\n",
    "                     data['name'] = driver.find_element(By.XPATH, f'//*[@id=\"main\"]/div/div/div[2]/ul/li[{guy}]/div/div/div[2]/div[1]/div[1]/div/span[1]/span/a/span/span[1]').text\n",
    "                elif len(driver.find_elements(By.XPATH, f'//*[@id=\"main\"]/div/div/div[2]/ul/li[{guy}]/div/div/div[2]/div[1]/div[1]/div/span[1]/span/a')) > 0:\n",
    "                    data['name'] = driver.find_elements(By.XPATH, f'//*[@id=\"main\"]/div/div/div[2]/ul/li[{guy}]/div/div/div[2]/div[1]/div[1]/div/span[1]/span/a')[0].text\n",
    "                else:\n",
    "                    print('NA')\n",
    "            except:\n",
    "                continue\n",
    "\n",
    "            try:\n",
    "                data['location'] = driver.find_element(By.XPATH, f'//*[@id=\"main\"]/div/div/div[2]/ul/li[{guy}]/div/div/div[2]/div[1]/div[2]/div/div[2]').text\n",
    "            except:\n",
    "                data['location'] = 'NA'\n",
    "\n",
    "            try:\n",
    "                data['position'] = driver.find_element(By.XPATH, f'//*[@id=\"main\"]/div/div/div[2]/ul/li[{guy}]/div/div/div[2]/div[1]/div[2]/div/div[1]').text\n",
    "            except:\n",
    "                data['position'] = 'NA'\n",
    "\n",
    "            try:\n",
    "                data['current/past'] = driver.find_element(By.XPATH,f'//*[@id=\"main\"]/div/div/div[2]/ul/li[{guy}]/div/div/div[2]/div[2]/p').text\n",
    "            except:\n",
    "                data['current/past'] = 'NA'\n",
    "            df = df.append(data, ignore_index=True)\n",
    "    driver.execute_script(\"window.scrollTo(0, document.body.scrollHeight)\")\n",
    "    try:\n",
    "        wait.until(EC.element_to_be_clickable((By.XPATH, '//button[@aria-label=\"Next\"]')))\n",
    "        next = driver.find_elements(By.XPATH, '//button[@aria-label=\"Next\"]')\n",
    "        ActionChains(driver).move_to_element(next[0]).click().perform()\n",
    "        time.sleep(4)\n",
    "    except:\n",
    "        break"
   ],
   "metadata": {
    "collapsed": false,
    "pycharm": {
     "name": "#%%\n"
    }
   }
  },
  {
   "cell_type": "code",
   "execution_count": 22,
   "outputs": [
    {
     "data": {
      "text/plain": "                    name      location  \\\n0           Ameen Najjar  Tokyo, Japan   \n1           Hiroaki Kato         Japan   \n2            Joji Imanue  Tokyo, Japan   \n3      Junichiro Katsuta         Japan   \n4    Danaipat Sodkomkham         Tokyo   \n..                   ...           ...   \n874      LinkedIn Member         Tokyo   \n875             Xule Qiu         Tokyo   \n876        Rie Kuwashima         Japan   \n877      LinkedIn Member         Tokyo   \n878      LinkedIn Member  Tokyo, Japan   \n\n                                              position  \\\n0                                       Data Scientist   \n1                          Data Scientist at Accenture   \n2             Lead Data Scientist at Johnson & Johnson   \n3                                       Data Scientist   \n4                       Data scientist at Rakuten Inc.   \n..                                                 ...   \n874                               AIG - Data Scientist   \n875  Research Scientist & Data Scientist at Fuji Xerox   \n876         Tata Consultancy Services - Data Scientist   \n877                    Fast Retailing - Data Scientist   \n878                      Data Scientist at 株式会社ボードウォーク   \n\n                                          current/past  \n0    Current: Applied/Data Scientist at Axelspace C...  \n1                              Skills: Data Structures  \n2    Current: Lead Data Scientist at Johnson & John...  \n3    Current: Data Scientist and Architect at GMO I...  \n4                   Current: Data scientist at Rakuten  \n..                                                 ...  \n874                     Current: Data Scientist at AIG  \n875  Current: Researcher & Data Scientist at Fuji X...  \n876  Current: Data Scientist at Tata Consultancy Se...  \n877          Current: Data Scientist at Fast Retailing  \n878                                                 NA  \n\n[879 rows x 4 columns]",
      "text/html": "<div>\n<style scoped>\n    .dataframe tbody tr th:only-of-type {\n        vertical-align: middle;\n    }\n\n    .dataframe tbody tr th {\n        vertical-align: top;\n    }\n\n    .dataframe thead th {\n        text-align: right;\n    }\n</style>\n<table border=\"1\" class=\"dataframe\">\n  <thead>\n    <tr style=\"text-align: right;\">\n      <th></th>\n      <th>name</th>\n      <th>location</th>\n      <th>position</th>\n      <th>current/past</th>\n    </tr>\n  </thead>\n  <tbody>\n    <tr>\n      <th>0</th>\n      <td>Ameen Najjar</td>\n      <td>Tokyo, Japan</td>\n      <td>Data Scientist</td>\n      <td>Current: Applied/Data Scientist at Axelspace C...</td>\n    </tr>\n    <tr>\n      <th>1</th>\n      <td>Hiroaki Kato</td>\n      <td>Japan</td>\n      <td>Data Scientist at Accenture</td>\n      <td>Skills: Data Structures</td>\n    </tr>\n    <tr>\n      <th>2</th>\n      <td>Joji Imanue</td>\n      <td>Tokyo, Japan</td>\n      <td>Lead Data Scientist at Johnson &amp; Johnson</td>\n      <td>Current: Lead Data Scientist at Johnson &amp; John...</td>\n    </tr>\n    <tr>\n      <th>3</th>\n      <td>Junichiro Katsuta</td>\n      <td>Japan</td>\n      <td>Data Scientist</td>\n      <td>Current: Data Scientist and Architect at GMO I...</td>\n    </tr>\n    <tr>\n      <th>4</th>\n      <td>Danaipat Sodkomkham</td>\n      <td>Tokyo</td>\n      <td>Data scientist at Rakuten Inc.</td>\n      <td>Current: Data scientist at Rakuten</td>\n    </tr>\n    <tr>\n      <th>...</th>\n      <td>...</td>\n      <td>...</td>\n      <td>...</td>\n      <td>...</td>\n    </tr>\n    <tr>\n      <th>874</th>\n      <td>LinkedIn Member</td>\n      <td>Tokyo</td>\n      <td>AIG - Data Scientist</td>\n      <td>Current: Data Scientist at AIG</td>\n    </tr>\n    <tr>\n      <th>875</th>\n      <td>Xule Qiu</td>\n      <td>Tokyo</td>\n      <td>Research Scientist &amp; Data Scientist at Fuji Xerox</td>\n      <td>Current: Researcher &amp; Data Scientist at Fuji X...</td>\n    </tr>\n    <tr>\n      <th>876</th>\n      <td>Rie Kuwashima</td>\n      <td>Japan</td>\n      <td>Tata Consultancy Services - Data Scientist</td>\n      <td>Current: Data Scientist at Tata Consultancy Se...</td>\n    </tr>\n    <tr>\n      <th>877</th>\n      <td>LinkedIn Member</td>\n      <td>Tokyo</td>\n      <td>Fast Retailing - Data Scientist</td>\n      <td>Current: Data Scientist at Fast Retailing</td>\n    </tr>\n    <tr>\n      <th>878</th>\n      <td>LinkedIn Member</td>\n      <td>Tokyo, Japan</td>\n      <td>Data Scientist at 株式会社ボードウォーク</td>\n      <td>NA</td>\n    </tr>\n  </tbody>\n</table>\n<p>879 rows × 4 columns</p>\n</div>"
     },
     "execution_count": 22,
     "metadata": {},
     "output_type": "execute_result"
    }
   ],
   "source": [
    "df"
   ],
   "metadata": {
    "collapsed": false,
    "pycharm": {
     "name": "#%%\n"
    }
   }
  },
  {
   "cell_type": "code",
   "execution_count": null,
   "outputs": [],
   "source": [],
   "metadata": {
    "collapsed": false,
    "pycharm": {
     "name": "#%%\n"
    }
   }
  }
 ],
 "metadata": {
  "kernelspec": {
   "display_name": "Python 3",
   "language": "python",
   "name": "python3"
  },
  "language_info": {
   "codemirror_mode": {
    "name": "ipython",
    "version": 2
   },
   "file_extension": ".py",
   "mimetype": "text/x-python",
   "name": "python",
   "nbconvert_exporter": "python",
   "pygments_lexer": "ipython2",
   "version": "2.7.6"
  }
 },
 "nbformat": 4,
 "nbformat_minor": 0
}