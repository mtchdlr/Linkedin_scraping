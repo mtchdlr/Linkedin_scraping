{
 "cells": [
  {
   "cell_type": "code",
   "execution_count": 2,
   "metadata": {
    "collapsed": true
   },
   "outputs": [],
   "source": [
    "import pandas as pd"
   ]
  },
  {
   "cell_type": "code",
   "execution_count": 15,
   "outputs": [
    {
     "data": {
      "text/plain": "    Georgian_last_names\n0              Abakelia\n1             Abashidze\n2             Abashidze\n3             Abazasdze\n4               Abkhazi\n..                  ...\n363         Zaalishvili\n364        Zhorzholiani\n365             Zhvania\n366              Zoidze\n367        Zurabishvili\n\n[368 rows x 1 columns]",
      "text/html": "<div>\n<style scoped>\n    .dataframe tbody tr th:only-of-type {\n        vertical-align: middle;\n    }\n\n    .dataframe tbody tr th {\n        vertical-align: top;\n    }\n\n    .dataframe thead th {\n        text-align: right;\n    }\n</style>\n<table border=\"1\" class=\"dataframe\">\n  <thead>\n    <tr style=\"text-align: right;\">\n      <th></th>\n      <th>Georgian_last_names</th>\n    </tr>\n  </thead>\n  <tbody>\n    <tr>\n      <th>0</th>\n      <td>Abakelia</td>\n    </tr>\n    <tr>\n      <th>1</th>\n      <td>Abashidze</td>\n    </tr>\n    <tr>\n      <th>2</th>\n      <td>Abashidze</td>\n    </tr>\n    <tr>\n      <th>3</th>\n      <td>Abazasdze</td>\n    </tr>\n    <tr>\n      <th>4</th>\n      <td>Abkhazi</td>\n    </tr>\n    <tr>\n      <th>...</th>\n      <td>...</td>\n    </tr>\n    <tr>\n      <th>363</th>\n      <td>Zaalishvili</td>\n    </tr>\n    <tr>\n      <th>364</th>\n      <td>Zhorzholiani</td>\n    </tr>\n    <tr>\n      <th>365</th>\n      <td>Zhvania</td>\n    </tr>\n    <tr>\n      <th>366</th>\n      <td>Zoidze</td>\n    </tr>\n    <tr>\n      <th>367</th>\n      <td>Zurabishvili</td>\n    </tr>\n  </tbody>\n</table>\n<p>368 rows × 1 columns</p>\n</div>"
     },
     "execution_count": 15,
     "metadata": {},
     "output_type": "execute_result"
    }
   ],
   "source": [
    "georgian_last_names = pd.read_csv('georgian_last_names.csv', header = [0])\n",
    "georgian_last_names"
   ],
   "metadata": {
    "collapsed": false,
    "pycharm": {
     "name": "#%%\n"
    }
   }
  },
  {
   "cell_type": "code",
   "execution_count": 44,
   "outputs": [
    {
     "data": {
      "text/plain": "['Abakelia',\n 'Abashidze',\n 'Abashidze',\n 'Abazasdze',\n 'Abkhazi',\n 'Abramashvili',\n 'Abramidze',\n 'Abramishvili',\n 'Abuladze',\n 'Abuletisdze',\n 'Abuserisdze',\n 'Adamia',\n 'Adeishvili',\n 'Agiashvili',\n 'Agniashvili',\n 'Akhalaia',\n 'Akhalkatsi',\n 'Akhaltsikheli',\n 'Akhvlediani',\n 'Aladashvili',\n 'Alasania',\n 'Alavidze',\n 'Aleksi-Meskhishvili',\n 'Aleksidze',\n 'Amashukeli',\n 'Amilakhvari',\n 'Amirejibi',\n 'Amisulashvili',\n 'Ananidze',\n 'Andronikashvili',\n 'Anjaparidze',\n 'Apakidze',\n 'Apkhazava',\n 'Arabidze',\n 'Arghutashvili',\n 'Arveladze',\n 'Arziani',\n 'Asatiani',\n 'Ashvetia',\n 'Aslanadze',\n 'Avalishvili',\n 'Babadishvili',\n 'Bagration-Davitishvili',\n 'Bagration-Mukhraneli',\n 'Bagrationi',\n 'Bakhsoliani',\n 'Bakhtadze',\n 'Bakradze',\n 'Balanchivadze',\n 'Balashvili',\n 'Balavadze',\n 'Barabadze',\n 'Baramidze',\n 'Baratashvili',\n 'Basilashvili',\n 'Bediashvili',\n 'Begtabegishvili',\n 'Benashvili',\n 'Beradze',\n 'Beria',\n 'Beridze',\n 'Bigvava',\n 'Bobokhidze',\n 'Bochorishvili',\n 'Bolkvadze',\n 'Botkoveli',\n 'Bregvadze',\n 'Bugadze',\n 'Buniatishvili',\n 'Burchuladze',\n 'Burduli',\n 'Chabukiani',\n 'Chachkhiani',\n 'Chachua',\n 'Chakvetadze',\n 'Chaladze',\n 'Chankotadze',\n 'Chanturia',\n 'Charkviani',\n 'Chavchavadze',\n 'Chedia',\n 'Chelebadze',\n 'Chelidze',\n 'Cherkezishvili',\n 'Chiaureli',\n 'Chiburdanidze',\n 'Chichinadze',\n 'Chichua',\n 'Chichveishvili',\n 'Chijavadze',\n 'Chikhradze',\n 'Chikovani',\n 'Chivadze',\n 'Chkhaidze',\n 'Chkhartishvili',\n 'Chkheidze',\n 'Chkhenkeli',\n 'Chkhetiani',\n 'Chkhetidze',\n 'Chkhikvadze',\n 'Chkhotua',\n 'Chkonia',\n 'Cholokashvili',\n 'Dadeshkeliani',\n 'Dadishkeliani',\n 'Daneliya',\n 'Daraselia',\n 'Darchidze',\n 'Datunashvili',\n 'Daushvili',\n 'Davitashvili',\n 'Dekanosidze',\n 'Demetradze',\n 'Dgebuadze',\n 'Dgebuadze',\n 'Diasamidze',\n 'Dighmelashvili',\n 'Dolidze',\n 'Donauri',\n 'Dongvani',\n 'Dumbadze',\n 'Dvali',\n 'Dvalishvili',\n 'Dzhugashvili',\n 'Eliava',\n 'Eristavi',\n 'Esadze',\n 'Gabashvili',\n 'Gabriadze',\n 'Gachechiladze',\n 'Gamkrelidze',\n 'Gamrekeli',\n 'Gamsakhurdia',\n 'Gandzieli-Gegelia',\n 'Gaprindashvili',\n 'Garakanidze',\n 'Garibashvili',\n 'Garsevanishvili',\n 'Gedevanishvili',\n 'Gegechkori',\n 'Gegeshidze',\n 'Geladze',\n 'Gelashvili',\n 'Giorgadze',\n 'Glonti',\n 'Gloveli',\n 'Gochashvili',\n 'Gogiashvili',\n 'Gogokhia',\n 'Gogoladze',\n 'Gokieli',\n 'Gomiashvili',\n 'Gongadze',\n 'Gorgodze',\n 'Gotsiridze',\n 'Gugava',\n 'Gugunava',\n 'Guramishvili',\n 'Gurgenidze',\n 'Guruli',\n 'Gvaladze',\n 'Gvazava',\n 'Gvenetadze',\n 'Dadiani',\n 'Gelovani',\n 'Gurieli',\n 'Jaqeli',\n 'Shervashidze',\n 'Tbeli',\n 'Toreli',\n 'Iashvili',\n 'Imedashvili',\n 'Iosava',\n 'Ioseliani',\n 'Ivanishvili',\n 'Izoria',\n 'Janashia',\n 'Jandieri',\n 'Janelidze',\n 'Janjgava',\n 'Japaridze',\n 'Javakhishvili',\n 'Jeladze',\n 'Jishkariani',\n 'Jorjadze',\n 'Jugeli',\n 'Kakabadze',\n 'Kakashvili',\n 'Kakhaberidze',\n 'Kaladze',\n 'Kancheli',\n 'Kandelaki',\n 'Kapanadze',\n 'Kashibadze',\n 'Katamadze',\n 'Kavkasidze',\n 'Kavtaradze',\n 'Kazbegi family',\n 'Kereselidze',\n 'Ketsbaia',\n 'Khalvashi',\n 'Kherkheulidze',\n 'Khidirbegishvili',\n 'Khimshiashvili',\n 'Khizanishvili',\n 'Khojaminasishvili',\n 'Khomeriki',\n 'Khorava',\n 'Khujadze',\n 'Khurtsidze',\n 'Khurtsilava',\n 'Khutsishvili',\n 'Kiknadze',\n 'Kipiani',\n 'Kldiashvili',\n 'Kobaladze',\n 'Kobulashvili',\n 'Kochakidze',\n 'Koridze',\n 'Kotrikadze',\n 'Kumaritashvili',\n 'Kurashvili',\n 'Kvaratskhelia',\n 'Kvirikashvili',\n 'Lazarashvili',\n 'Licheli',\n 'Lionidze',\n 'Liparitids',\n 'Liparteliani',\n 'Lobzhanidze',\n 'Lomidze',\n 'Lortkipanidze',\n 'Lortkipanidze',\n 'Machabeli',\n 'Machaidze',\n 'Machavariani',\n 'Machutadze',\n 'Maghalashvili',\n 'Maisuradze',\n 'Makashvili',\n 'Makharadze',\n 'Mamardashvili',\n 'Mamasakhlisi',\n 'Mamulia',\n 'Manvelishvili',\n 'Margania',\n 'Margvelashvili',\n 'Mchedlidze',\n 'Mchedlishvili',\n 'Mdivani',\n 'Melia',\n 'Melikishvili',\n 'Melkadze',\n 'Melua',\n 'Meskhi',\n 'Metreveli',\n 'Mgaloblishvili',\n 'Mgeladze',\n 'Mikadze',\n 'Mikeladze',\n 'Mildiani',\n 'Mirimanidze',\n 'Mkheidze',\n 'Modebadze',\n 'Mukhraneli',\n 'Mzhavanadze',\n 'Nakani',\n 'Nakashidze',\n 'Nanava',\n 'Natsvlishvili',\n 'Navrozashvili',\n 'Nemsadze',\n 'Nikoladze',\n 'Nizharadze',\n 'Nogaideli',\n 'Nozadze',\n 'Nutsubidze',\n 'Okruashvili',\n 'Oniani',\n 'Orbeliani',\n 'Ordzhonikidze',\n 'Palavandishvili',\n 'Paliashvili',\n 'Panjikidze',\n 'Patarava',\n 'Patarkatsishvili',\n 'Pavlenishvili',\n 'Petriashvili',\n 'Petviashvili',\n 'Pichkhadze',\n 'Pirtskhalaishvili',\n 'Pkheidze',\n 'Rapava',\n 'Ratishvili',\n 'Razmadze',\n 'Rcheulishvili',\n 'Rekhviashvili',\n 'Revazishvili',\n 'Revazov',\n 'Robitashvili',\n 'Rurua',\n 'Rusishvili',\n 'Saakadze',\n 'Sabauri',\n 'Sakandelidze',\n 'Salukvadze',\n 'Sanadze',\n 'Shaburidze',\n 'Shalikashvili',\n 'Shavdatuashvili',\n 'Shengelia',\n 'Shermadini',\n 'Shervashidze',\n 'Shetekauri',\n 'Shevardnadze',\n 'Shukvani',\n 'Shvelidze',\n 'Sichinava',\n 'Sidamon-Eristavi',\n 'House of Sidamoni',\n 'Sologashvili',\n 'Subari',\n 'Sukhishvili',\n 'Surameli',\n 'Svanidze',\n 'Tabidze',\n 'Taktakishvili',\n 'Talakhadze',\n 'Tarkhan-Mouravi',\n 'Tarkhnishvili',\n 'Tatishvili',\n 'Tavdgiridze',\n 'Tetrashvili',\n 'Tevzadze',\n 'Tkeshelashvili',\n 'Todua',\n 'Tsereteli',\n 'Tsiklauri',\n 'Tsimakuridze',\n 'Tsinamdzgvrishvili',\n 'Tsintsadze',\n 'Tsirekidze',\n 'Tsiskaridze',\n 'Tsitsishvili',\n 'Tskitishvili',\n 'Tsulukiani',\n 'Tsulukidze',\n 'Tsutskiridze',\n 'Tugushi',\n 'Tumanishvili',\n 'Tushishvili',\n 'Tusishvili',\n 'Ujmajuridze',\n 'Undiladze',\n 'Urushadze',\n 'Usupashvili',\n 'Vachnadze',\n 'Vakhvakhishvili',\n 'Vardzelashvili',\n 'Vashadze',\n 'Vashakidze',\n 'Vezirishvili',\n 'Virsaladze',\n 'Zaalishvili',\n 'Zhorzholiani',\n 'Zhvania',\n 'Zoidze',\n 'Zurabishvili']"
     },
     "execution_count": 44,
     "metadata": {},
     "output_type": "execute_result"
    }
   ],
   "source": [
    "last_names = georgian_last_names.Georgian_last_names.to_list()\n",
    "last_names\n"
   ],
   "metadata": {
    "collapsed": false,
    "pycharm": {
     "name": "#%%\n"
    }
   }
  },
  {
   "cell_type": "code",
   "execution_count": 79,
   "outputs": [],
   "source": [
    "w = 'sandro Burduli'"
   ],
   "metadata": {
    "collapsed": false,
    "pycharm": {
     "name": "#%%\n"
    }
   }
  },
  {
   "cell_type": "code",
   "execution_count": 80,
   "outputs": [
    {
     "data": {
      "text/plain": "'Burduli'"
     },
     "execution_count": 80,
     "metadata": {},
     "output_type": "execute_result"
    }
   ],
   "source": [
    "w.split()[1]"
   ],
   "metadata": {
    "collapsed": false,
    "pycharm": {
     "name": "#%%\n"
    }
   }
  },
  {
   "cell_type": "code",
   "execution_count": 81,
   "outputs": [
    {
     "name": "stdout",
     "output_type": "stream",
     "text": [
      "yes\n"
     ]
    }
   ],
   "source": [
    "from re import search\n",
    "if w.split(' ')[1] in last_names:\n",
    "    print('yes')\n",
    "else:\n",
    "    print('no')"
   ],
   "metadata": {
    "collapsed": false,
    "pycharm": {
     "name": "#%%\n"
    }
   }
  },
  {
   "cell_type": "code",
   "execution_count": 38,
   "outputs": [
    {
     "ename": "AttributeError",
     "evalue": "'str' object has no attribute 'str'",
     "output_type": "error",
     "traceback": [
      "\u001B[1;31m---------------------------------------------------------------------------\u001B[0m",
      "\u001B[1;31mAttributeError\u001B[0m                            Traceback (most recent call last)",
      "\u001B[1;32mC:\\Users\\DMCHED~1\\AppData\\Local\\Temp/ipykernel_13736/47821315.py\u001B[0m in \u001B[0;36m<module>\u001B[1;34m\u001B[0m\n\u001B[1;32m----> 1\u001B[1;33m \u001B[0mw\u001B[0m\u001B[1;33m.\u001B[0m\u001B[0mstr\u001B[0m\u001B[1;33m.\u001B[0m\u001B[0msplit\u001B[0m\u001B[1;33m(\u001B[0m\u001B[1;34m' '\u001B[0m\u001B[1;33m)\u001B[0m\u001B[1;33m\u001B[0m\u001B[1;33m\u001B[0m\u001B[0m\n\u001B[0m",
      "\u001B[1;31mAttributeError\u001B[0m: 'str' object has no attribute 'str'"
     ]
    }
   ],
   "source": [
    "w.str.split(' ')"
   ],
   "metadata": {
    "collapsed": false,
    "pycharm": {
     "name": "#%%\n"
    }
   }
  },
  {
   "cell_type": "code",
   "execution_count": 85,
   "outputs": [],
   "source": [
    "# import selenium\n",
    "from selenium import webdriver\n",
    "# import bs4\n",
    "from selenium.webdriver.common.keys import Keys\n",
    "# from selenium.webdriver.common.by import By\n",
    "# from selenium.webdriver.remote.webelement import WebElement\n",
    "from selenium.webdriver.support.ui import WebDriverWait\n",
    "from selenium.webdriver.support import expected_conditions as EC\n",
    "# from selenium.common.exceptions import TimeoutException, ElementNotVisibleException, ElementNotSelectableException, \\\n",
    "#     ElementClickInterceptedException, StaleElementReferenceException\n",
    "from selenium.webdriver.common.action_chains import ActionChains\n",
    "# from selenium.common.exceptions import NoSuchElementException\n",
    "# import re\n",
    "import pandas as pd\n",
    "# import requests\n",
    "import time\n",
    "# import numpy as np\n",
    "from selenium.webdriver.chrome.service import Service\n",
    "from selenium.webdriver.common.by import By\n",
    "\n",
    "georgian_last_names = pd.read_csv('georgian_last_names.csv', header = [0])\n",
    "last_names = georgian_last_names.Georgian_last_names.to_list()\n",
    "\n",
    "path = Service('C:\\\\Users\\dmchedluri\\Desktop\\chromedriver_90.0.4430.24\\chromedriver.exe')\n",
    "driver = webdriver.Chrome(service = path)\n",
    "\n",
    "driver.get('https:/linkedin.com')\n",
    "driver.maximize_window()\n",
    "wait = WebDriverWait(driver, 10,  poll_frequency=1)\n",
    "\n",
    "\n",
    "mail = driver.find_element(By.XPATH, '//*[@id=\"session_key\"]')\n",
    "action_1 = ActionChains(driver)\n",
    "action_1.move_to_element(mail).click().send_keys('mayatushuri@gmail.com').perform()\n",
    "time.sleep(2)\n",
    "password = driver.find_element(By.XPATH, '//*[@id=\"session_password\"]')\n",
    "action_2 = ActionChains(driver)\n",
    "action_2.move_to_element(password).click().send_keys('Li_nked_In_1996').perform()\n",
    "time.sleep(2)\n",
    "sign_in = driver.find_element(By.XPATH, '//*[@id=\"main-content\"]/section[1]/div/div/form/button')\n",
    "action_3 = ActionChains(driver)\n",
    "action_3.move_to_element(sign_in).click().perform()\n",
    "time.sleep(2)\n",
    "\n",
    "\n",
    "search = driver.find_element(By.XPATH, '//*[@id=\"global-nav-typeahead\"]/input')\n",
    "action_4 = ActionChains(driver)\n",
    "action_4.move_to_element(search).click().send_keys('data scientist').perform()\n",
    "webdriver.ActionChains(driver).send_keys(Keys.RETURN).perform()\n",
    "time.sleep(1)\n",
    "webdriver.ActionChains(driver).send_keys(Keys.ESCAPE).perform()\n",
    "time.sleep(2)\n",
    "\n",
    "\n",
    "# Clicking on People\n",
    "wait.until(EC.visibility_of_element_located((By.CSS_SELECTOR, '.search-reusables__filter-pill-button')))\n",
    "filter_tabs = driver.find_elements(By.CSS_SELECTOR, '.search-reusables__filter-pill-button')\n",
    "\n",
    "for i in range(0, int(len(filter_tabs))+1):\n",
    "    if 'People' in filter_tabs[i].text:\n",
    "        action_5 = ActionChains(driver)\n",
    "        action_5.move_to_element(filter_tabs[i]).click().perform()\n",
    "        break\n",
    "    else:\n",
    "        continue\n",
    "\n",
    "# Clicking on Location\n",
    "wait.until(EC.visibility_of_element_located((By.CSS_SELECTOR, '.search-reusables__filter-pill-button')))\n",
    "filter_tabs = driver.find_elements(By.CSS_SELECTOR, '.search-reusables__filter-pill-button')\n",
    "\n",
    "for i in range(0, len(filter_tabs)+1):\n",
    "    if 'Locations' in filter_tabs[i].text:\n",
    "        action_6 = ActionChains(driver)\n",
    "        action_6.move_to_element(filter_tabs[i]).click().perform()\n",
    "        break\n",
    "    else:\n",
    "        continue\n",
    "\n",
    "time.sleep(1.5)\n",
    "location_input_box_child = driver.find_element(By.XPATH, '//input[@placeholder=\"Add a location\"]')\n",
    "location_input_box = location_input_box_child.find_element(By.XPATH, '..')\n",
    "\n",
    "action_7 = ActionChains(driver)\n",
    "action_7.move_to_element(location_input_box).click().send_keys('United Kingdom').perform()\n",
    "\n",
    "# Choosing a country\n",
    "time.sleep(3)\n",
    "# wait.until(EC.visibility_of_element_located((By.CLASS_NAME, 'basic-typeahead__triggered-content')))\n",
    "parent_elem = driver.find_element(By.CLASS_NAME, 'basic-typeahead__triggered-content')\n",
    "child_elements = parent_elem.find_elements(By.XPATH, './/*')[1]\n",
    "time.sleep(1.5)\n",
    "#webdriver.ActionChains(driver).send_keys(Keys.ESCAPE).perform()\n",
    "ActionChains(driver).move_to_element(child_elements).click().perform()\n",
    "time.sleep(1.5)\n",
    "\n",
    "# Show_Results Button\n",
    "show_results_button = driver.find_element(By.CLASS_NAME, 'artdeco-button__text')\n",
    "ActionChains(driver).move_to_element(show_results_button).click().perform()\n",
    "webdriver.ActionChains(driver).send_keys(Keys.ESCAPE).perform()\n",
    "\n",
    "\n",
    "# while loop, scarping each page for names\n",
    "# empty dataframe\n",
    "df = pd.DataFrame(columns=['name', 'location', 'position', 'current/past'])\n",
    "data = {}\n",
    "\n",
    "while True:\n",
    "    time.sleep(2)\n",
    "    guys = driver.find_elements(By.CLASS_NAME, 'reusable-search__result-container ')\n",
    "    for guy in range(1, len(guys)+1):\n",
    "        check_last_name = driver.find_elements(By.XPATH, f'//*[@id=\"main\"]/div/div/div[2]/ul/li[{guy}]/div/div/div[2]/div[1]/div[1]/div/span[1]/span/a')[0].text\n",
    "        if check_last_name.split()[1] in last_names:\n",
    "            try:\n",
    "                if len(driver.find_elements(By.XPATH, f'//*[@id=\"main\"]/div/div/div[2]/ul/li[{guy}]/div/div/div[2]/div[1]/div[1]/div/span[1]/span/a/span/span[1]')) > 0:\n",
    "                     data['name'] = driver.find_element(By.XPATH, f'//*[@id=\"main\"]/div/div/div[2]/ul/li[{guy}]/div/div/div[2]/div[1]/div[1]/div/span[1]/span/a/span/span[1]').text\n",
    "                elif len(driver.find_elements(By.XPATH, f'//*[@id=\"main\"]/div/div/div[2]/ul/li[{guy}]/div/div/div[2]/div[1]/div[1]/div/span[1]/span/a')) > 0:\n",
    "                    data['name'] = driver.find_elements(By.XPATH, f'//*[@id=\"main\"]/div/div/div[2]/ul/li[{guy}]/div/div/div[2]/div[1]/div[1]/div/span[1]/span/a')[0].text\n",
    "                else:\n",
    "                    print('NA')\n",
    "            except:\n",
    "                continue\n",
    "\n",
    "            try:\n",
    "                data['location'] = driver.find_element(By.XPATH, f'//*[@id=\"main\"]/div/div/div[2]/ul/li[{guy}]/div/div/div[2]/div[1]/div[2]/div/div[2]').text\n",
    "            except:\n",
    "                data['location'] = 'NA'\n",
    "\n",
    "            try:\n",
    "                data['position'] = driver.find_element(By.XPATH, f'//*[@id=\"main\"]/div/div/div[2]/ul/li[{guy}]/div/div/div[2]/div[1]/div[2]/div/div[1]').text\n",
    "            except:\n",
    "                data['position'] = 'NA'\n",
    "\n",
    "            try:\n",
    "                data['current/past'] = driver.find_element(By.XPATH, f'//*[@id=\"main\"]/div/div/div[2]/ul/li[{guy}]/div/div/div[2]/div[2]/p').text\n",
    "            except:\n",
    "                data['current/past'] = 'NA'\n",
    "            df = df.append(data, ignore_index=True)\n",
    "        else:\n",
    "            continue\n",
    "    driver.execute_script(\"window.scrollTo(0, document.body.scrollHeight)\")\n",
    "    try:\n",
    "        wait.until(EC.element_to_be_clickable((By.XPATH, '//button[@aria-label=\"Next\"]')))\n",
    "        next = driver.find_elements(By.XPATH, '//button[@aria-label=\"Next\"]')\n",
    "        ActionChains(driver).move_to_element(next[0]).click().perform()\n",
    "        time.sleep(4)\n",
    "    except:\n",
    "        break"
   ],
   "metadata": {
    "collapsed": false,
    "pycharm": {
     "name": "#%%\n"
    }
   }
  },
  {
   "cell_type": "code",
   "execution_count": 86,
   "outputs": [
    {
     "data": {
      "text/plain": "             name location                                           position  \\\n0  Kate Chkhaidze   London  Data Scientist Associate Sr at JPMorgan Chase ...   \n\n                                        current/past  \n0  Current: Data Scientist / Machine Learning Eng...  ",
      "text/html": "<div>\n<style scoped>\n    .dataframe tbody tr th:only-of-type {\n        vertical-align: middle;\n    }\n\n    .dataframe tbody tr th {\n        vertical-align: top;\n    }\n\n    .dataframe thead th {\n        text-align: right;\n    }\n</style>\n<table border=\"1\" class=\"dataframe\">\n  <thead>\n    <tr style=\"text-align: right;\">\n      <th></th>\n      <th>name</th>\n      <th>location</th>\n      <th>position</th>\n      <th>current/past</th>\n    </tr>\n  </thead>\n  <tbody>\n    <tr>\n      <th>0</th>\n      <td>Kate Chkhaidze</td>\n      <td>London</td>\n      <td>Data Scientist Associate Sr at JPMorgan Chase ...</td>\n      <td>Current: Data Scientist / Machine Learning Eng...</td>\n    </tr>\n  </tbody>\n</table>\n</div>"
     },
     "execution_count": 86,
     "metadata": {},
     "output_type": "execute_result"
    }
   ],
   "source": [
    "df"
   ],
   "metadata": {
    "collapsed": false,
    "pycharm": {
     "name": "#%%\n"
    }
   }
  },
  {
   "cell_type": "code",
   "execution_count": null,
   "outputs": [],
   "source": [],
   "metadata": {
    "collapsed": false,
    "pycharm": {
     "name": "#%%\n"
    }
   }
  }
 ],
 "metadata": {
  "kernelspec": {
   "display_name": "Python 3",
   "language": "python",
   "name": "python3"
  },
  "language_info": {
   "codemirror_mode": {
    "name": "ipython",
    "version": 2
   },
   "file_extension": ".py",
   "mimetype": "text/x-python",
   "name": "python",
   "nbconvert_exporter": "python",
   "pygments_lexer": "ipython2",
   "version": "2.7.6"
  }
 },
 "nbformat": 4,
 "nbformat_minor": 0
}